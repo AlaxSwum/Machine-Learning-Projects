{
  "cells": [
    {
      "cell_type": "markdown",
      "metadata": {
        "id": "view-in-github",
        "colab_type": "text"
      },
      "source": [
        "<a href=\"https://colab.research.google.com/github/AlaxSwum/Machine-Learning-Projects/blob/main/Tensorflow_in_10.ipynb\" target=\"_parent\"><img src=\"https://colab.research.google.com/assets/colab-badge.svg\" alt=\"Open In Colab\"/></a>"
      ]
    },
    {
      "cell_type": "markdown",
      "metadata": {
        "id": "MpGymgVgzP5u"
      },
      "source": [
        "# 0. Import Data"
      ]
    },
    {
      "cell_type": "code",
      "execution_count": null,
      "metadata": {
        "id": "0JZpTGU9zP5x"
      },
      "outputs": [],
      "source": [
        "import pandas as pd\n",
        "import tensorflow as tf\n",
        "import numpy as np\n",
        "from sklearn.model_selection import train_test_split\n",
        "from sklearn.preprocessing import LabelEncoder"
      ]
    },
    {
      "cell_type": "code",
      "execution_count": null,
      "metadata": {
        "id": "RvFsDSH_zP50"
      },
      "outputs": [],
      "source": [
        "df = pd.read_csv('Churn 2.csv')"
      ]
    },
    {
      "cell_type": "code",
      "execution_count": null,
      "metadata": {
        "id": "qf4k2NKozP51"
      },
      "outputs": [],
      "source": [
        "X = pd.get_dummies(df.drop(['Churn', 'Customer ID'], axis=1))\n",
        "y = df['Churn'].apply(lambda x : 1 if x == 'Yes' else 0)\n",
        "\n",
        "# df['Churn']=LabelEncoder().fit_transform(df['Churn'])\n",
        "# df.head()"
      ]
    },
    {
      "cell_type": "code",
      "execution_count": null,
      "metadata": {
        "id": "PxNdBGzFzP52"
      },
      "outputs": [],
      "source": [
        "\n",
        "X_train, X_test, y_train, y_test = train_test_split(X, y, test_size=0.2)"
      ]
    },
    {
      "cell_type": "code",
      "execution_count": null,
      "metadata": {
        "colab": {
          "base_uri": "https://localhost:8080/"
        },
        "id": "UAoKRH99zP53",
        "outputId": "c0fe08b0-2a84-4892-ec84-ffb2c5e6b8f6"
      },
      "outputs": [
        {
          "output_type": "execute_result",
          "data": {
            "text/plain": [
              "0    0\n",
              "1    0\n",
              "2    0\n",
              "3    1\n",
              "4    0\n",
              "Name: Churn, dtype: int64"
            ]
          },
          "metadata": {},
          "execution_count": 39
        }
      ],
      "source": [
        "y.head()"
      ]
    },
    {
      "cell_type": "markdown",
      "metadata": {
        "id": "z4nCb5LRzP55"
      },
      "source": [
        "# 1. Import Dependencies"
      ]
    },
    {
      "cell_type": "code",
      "execution_count": null,
      "metadata": {
        "id": "Spsl5FbzzP56"
      },
      "outputs": [],
      "source": [
        "from tensorflow.keras.models import Sequential, load_model\n",
        "from tensorflow.keras.layers import Dense\n",
        "from sklearn.metrics import accuracy_score"
      ]
    },
    {
      "cell_type": "code",
      "source": [
        "X_train = X_train.astype('float32')\n",
        "y_train = y_train.astype('float32')\n",
        "X_test = X_test.astype('float32')\n",
        "y_test = y_test.astype('float32')"
      ],
      "metadata": {
        "id": "UlltnFuU6_nz"
      },
      "execution_count": null,
      "outputs": []
    },
    {
      "cell_type": "markdown",
      "metadata": {
        "id": "dfkSKnbmzP57"
      },
      "source": [
        "# 2. Build and Compile Model"
      ]
    },
    {
      "cell_type": "code",
      "execution_count": null,
      "metadata": {
        "id": "kzphaHahzP58"
      },
      "outputs": [],
      "source": [
        "model = Sequential([\n",
        "    Dense(units=32, activation='relu', input_dim=len(X_train.columns)),\n",
        "    Dense(units=64, activation='relu'),\n",
        "    Dense(units=1, activation='sigmoid')\n",
        "])\n"
      ]
    },
    {
      "cell_type": "code",
      "execution_count": null,
      "metadata": {
        "id": "MirOcP1EzP59"
      },
      "outputs": [],
      "source": [
        "model.compile(loss='binary_crossentropy', optimizer='sgd', metrics=['accuracy'])"
      ]
    },
    {
      "cell_type": "markdown",
      "metadata": {
        "id": "jLI1tKhxzP59"
      },
      "source": [
        "# 3. Fit, Predict and Evaluate"
      ]
    },
    {
      "cell_type": "code",
      "execution_count": null,
      "metadata": {
        "collapsed": true,
        "colab": {
          "base_uri": "https://localhost:8080/"
        },
        "id": "6ZE32Z6qzP59",
        "outputId": "9054fd99-8b1f-44cf-b959-9f7bc454296b"
      },
      "outputs": [
        {
          "output_type": "stream",
          "name": "stdout",
          "text": [
            "Epoch 1/200\n",
            "177/177 [==============================] - 1s 2ms/step - loss: nan - accuracy: 0.7228\n",
            "Epoch 2/200\n",
            "177/177 [==============================] - 0s 2ms/step - loss: nan - accuracy: 0.7303\n",
            "Epoch 3/200\n",
            "177/177 [==============================] - 0s 2ms/step - loss: nan - accuracy: 0.7303\n",
            "Epoch 4/200\n",
            "177/177 [==============================] - 0s 2ms/step - loss: nan - accuracy: 0.7303\n",
            "Epoch 5/200\n",
            "177/177 [==============================] - 0s 2ms/step - loss: nan - accuracy: 0.7303\n",
            "Epoch 6/200\n",
            "177/177 [==============================] - 0s 2ms/step - loss: nan - accuracy: 0.7303\n",
            "Epoch 7/200\n",
            "177/177 [==============================] - 0s 2ms/step - loss: nan - accuracy: 0.7303\n",
            "Epoch 8/200\n",
            "177/177 [==============================] - 0s 2ms/step - loss: nan - accuracy: 0.7303\n",
            "Epoch 9/200\n",
            "177/177 [==============================] - 0s 2ms/step - loss: nan - accuracy: 0.7303\n",
            "Epoch 10/200\n",
            "177/177 [==============================] - 0s 2ms/step - loss: nan - accuracy: 0.7303\n",
            "Epoch 11/200\n",
            "177/177 [==============================] - 0s 2ms/step - loss: nan - accuracy: 0.7303\n",
            "Epoch 12/200\n",
            "177/177 [==============================] - 0s 2ms/step - loss: nan - accuracy: 0.7303\n",
            "Epoch 13/200\n",
            "177/177 [==============================] - 0s 2ms/step - loss: nan - accuracy: 0.7303\n",
            "Epoch 14/200\n",
            "177/177 [==============================] - 0s 2ms/step - loss: nan - accuracy: 0.7303\n",
            "Epoch 15/200\n",
            "177/177 [==============================] - 0s 2ms/step - loss: nan - accuracy: 0.7303\n",
            "Epoch 16/200\n",
            "177/177 [==============================] - 1s 3ms/step - loss: nan - accuracy: 0.7303\n",
            "Epoch 17/200\n",
            "177/177 [==============================] - 1s 3ms/step - loss: nan - accuracy: 0.7303\n",
            "Epoch 18/200\n",
            "177/177 [==============================] - 1s 3ms/step - loss: nan - accuracy: 0.7303\n",
            "Epoch 19/200\n",
            "177/177 [==============================] - 1s 3ms/step - loss: nan - accuracy: 0.7303\n",
            "Epoch 20/200\n",
            "177/177 [==============================] - 1s 3ms/step - loss: nan - accuracy: 0.7303\n",
            "Epoch 21/200\n",
            "177/177 [==============================] - 1s 3ms/step - loss: nan - accuracy: 0.7303\n",
            "Epoch 22/200\n",
            "177/177 [==============================] - 0s 2ms/step - loss: nan - accuracy: 0.7303\n",
            "Epoch 23/200\n",
            "177/177 [==============================] - 0s 2ms/step - loss: nan - accuracy: 0.7303\n",
            "Epoch 24/200\n",
            "177/177 [==============================] - 0s 2ms/step - loss: nan - accuracy: 0.7303\n",
            "Epoch 25/200\n",
            "177/177 [==============================] - 0s 2ms/step - loss: nan - accuracy: 0.7303\n",
            "Epoch 26/200\n",
            "177/177 [==============================] - 0s 2ms/step - loss: nan - accuracy: 0.7303\n",
            "Epoch 27/200\n",
            "177/177 [==============================] - 0s 2ms/step - loss: nan - accuracy: 0.7303\n",
            "Epoch 28/200\n",
            "177/177 [==============================] - 0s 2ms/step - loss: nan - accuracy: 0.7303\n",
            "Epoch 29/200\n",
            "177/177 [==============================] - 0s 2ms/step - loss: nan - accuracy: 0.7303\n",
            "Epoch 30/200\n",
            "177/177 [==============================] - 0s 2ms/step - loss: nan - accuracy: 0.7303\n",
            "Epoch 31/200\n",
            "177/177 [==============================] - 0s 2ms/step - loss: nan - accuracy: 0.7303\n",
            "Epoch 32/200\n",
            "177/177 [==============================] - 1s 3ms/step - loss: nan - accuracy: 0.7303\n",
            "Epoch 33/200\n",
            "177/177 [==============================] - 1s 4ms/step - loss: nan - accuracy: 0.7303\n",
            "Epoch 34/200\n",
            "177/177 [==============================] - 1s 4ms/step - loss: nan - accuracy: 0.7303\n",
            "Epoch 35/200\n",
            "177/177 [==============================] - 0s 2ms/step - loss: nan - accuracy: 0.7303\n",
            "Epoch 36/200\n",
            "177/177 [==============================] - 1s 4ms/step - loss: nan - accuracy: 0.7303\n",
            "Epoch 37/200\n",
            "177/177 [==============================] - 0s 2ms/step - loss: nan - accuracy: 0.7303\n",
            "Epoch 38/200\n",
            "177/177 [==============================] - 0s 2ms/step - loss: nan - accuracy: 0.7303\n",
            "Epoch 39/200\n",
            "177/177 [==============================] - 0s 2ms/step - loss: nan - accuracy: 0.7303\n",
            "Epoch 40/200\n",
            "177/177 [==============================] - 0s 2ms/step - loss: nan - accuracy: 0.7303\n",
            "Epoch 41/200\n",
            "177/177 [==============================] - 0s 2ms/step - loss: nan - accuracy: 0.7303\n",
            "Epoch 42/200\n",
            "177/177 [==============================] - 0s 2ms/step - loss: nan - accuracy: 0.7303\n",
            "Epoch 43/200\n",
            "177/177 [==============================] - 0s 2ms/step - loss: nan - accuracy: 0.7303\n",
            "Epoch 44/200\n",
            "177/177 [==============================] - 0s 2ms/step - loss: nan - accuracy: 0.7303\n",
            "Epoch 45/200\n",
            "177/177 [==============================] - 1s 3ms/step - loss: nan - accuracy: 0.7303\n",
            "Epoch 46/200\n",
            "177/177 [==============================] - 0s 3ms/step - loss: nan - accuracy: 0.7303\n",
            "Epoch 47/200\n",
            "177/177 [==============================] - 1s 3ms/step - loss: nan - accuracy: 0.7303\n",
            "Epoch 48/200\n",
            "177/177 [==============================] - 1s 4ms/step - loss: nan - accuracy: 0.7303\n",
            "Epoch 49/200\n",
            "177/177 [==============================] - 1s 4ms/step - loss: nan - accuracy: 0.7303\n",
            "Epoch 50/200\n",
            "177/177 [==============================] - 1s 3ms/step - loss: nan - accuracy: 0.7303\n",
            "Epoch 51/200\n",
            "177/177 [==============================] - 0s 2ms/step - loss: nan - accuracy: 0.7303\n",
            "Epoch 52/200\n",
            "177/177 [==============================] - 0s 2ms/step - loss: nan - accuracy: 0.7303\n",
            "Epoch 53/200\n",
            "177/177 [==============================] - 0s 2ms/step - loss: nan - accuracy: 0.7303\n",
            "Epoch 54/200\n",
            "177/177 [==============================] - 0s 2ms/step - loss: nan - accuracy: 0.7303\n",
            "Epoch 55/200\n",
            "177/177 [==============================] - 0s 2ms/step - loss: nan - accuracy: 0.7303\n",
            "Epoch 56/200\n",
            "177/177 [==============================] - 0s 2ms/step - loss: nan - accuracy: 0.7303\n",
            "Epoch 57/200\n",
            "177/177 [==============================] - 0s 2ms/step - loss: nan - accuracy: 0.7303\n",
            "Epoch 58/200\n",
            "177/177 [==============================] - 0s 2ms/step - loss: nan - accuracy: 0.7303\n",
            "Epoch 59/200\n",
            "177/177 [==============================] - 0s 2ms/step - loss: nan - accuracy: 0.7303\n",
            "Epoch 60/200\n",
            "177/177 [==============================] - 0s 2ms/step - loss: nan - accuracy: 0.7303\n",
            "Epoch 61/200\n",
            "177/177 [==============================] - 0s 2ms/step - loss: nan - accuracy: 0.7303\n",
            "Epoch 62/200\n",
            "177/177 [==============================] - 0s 2ms/step - loss: nan - accuracy: 0.7303\n",
            "Epoch 63/200\n",
            "177/177 [==============================] - 0s 2ms/step - loss: nan - accuracy: 0.7303\n",
            "Epoch 64/200\n",
            "177/177 [==============================] - 0s 2ms/step - loss: nan - accuracy: 0.7303\n",
            "Epoch 65/200\n",
            "177/177 [==============================] - 0s 2ms/step - loss: nan - accuracy: 0.7303\n",
            "Epoch 66/200\n",
            "177/177 [==============================] - 0s 2ms/step - loss: nan - accuracy: 0.7303\n",
            "Epoch 67/200\n",
            "177/177 [==============================] - 0s 2ms/step - loss: nan - accuracy: 0.7303\n",
            "Epoch 68/200\n",
            "177/177 [==============================] - 0s 2ms/step - loss: nan - accuracy: 0.7303\n",
            "Epoch 69/200\n",
            "177/177 [==============================] - 0s 2ms/step - loss: nan - accuracy: 0.7303\n",
            "Epoch 70/200\n",
            "177/177 [==============================] - 0s 2ms/step - loss: nan - accuracy: 0.7303\n",
            "Epoch 71/200\n",
            "177/177 [==============================] - 0s 2ms/step - loss: nan - accuracy: 0.7303\n",
            "Epoch 72/200\n",
            "177/177 [==============================] - 0s 2ms/step - loss: nan - accuracy: 0.7303\n",
            "Epoch 73/200\n",
            "177/177 [==============================] - 0s 2ms/step - loss: nan - accuracy: 0.7303\n",
            "Epoch 74/200\n",
            "177/177 [==============================] - 0s 2ms/step - loss: nan - accuracy: 0.7303\n",
            "Epoch 75/200\n",
            "177/177 [==============================] - 0s 2ms/step - loss: nan - accuracy: 0.7303\n",
            "Epoch 76/200\n",
            "177/177 [==============================] - 0s 2ms/step - loss: nan - accuracy: 0.7303\n",
            "Epoch 77/200\n",
            "177/177 [==============================] - 0s 2ms/step - loss: nan - accuracy: 0.7303\n",
            "Epoch 78/200\n",
            "177/177 [==============================] - 1s 3ms/step - loss: nan - accuracy: 0.7303\n",
            "Epoch 79/200\n",
            "177/177 [==============================] - 1s 3ms/step - loss: nan - accuracy: 0.7303\n",
            "Epoch 80/200\n",
            "177/177 [==============================] - 1s 3ms/step - loss: nan - accuracy: 0.7303\n",
            "Epoch 81/200\n",
            "177/177 [==============================] - 1s 4ms/step - loss: nan - accuracy: 0.7303\n",
            "Epoch 82/200\n",
            "177/177 [==============================] - 1s 4ms/step - loss: nan - accuracy: 0.7303\n",
            "Epoch 83/200\n",
            "177/177 [==============================] - 0s 2ms/step - loss: nan - accuracy: 0.7303\n",
            "Epoch 84/200\n",
            "177/177 [==============================] - 0s 2ms/step - loss: nan - accuracy: 0.7303\n",
            "Epoch 85/200\n",
            "177/177 [==============================] - 0s 2ms/step - loss: nan - accuracy: 0.7303\n",
            "Epoch 86/200\n",
            "177/177 [==============================] - 0s 2ms/step - loss: nan - accuracy: 0.7303\n",
            "Epoch 87/200\n",
            "177/177 [==============================] - 0s 2ms/step - loss: nan - accuracy: 0.7303\n",
            "Epoch 88/200\n",
            "177/177 [==============================] - 0s 2ms/step - loss: nan - accuracy: 0.7303\n",
            "Epoch 89/200\n",
            "177/177 [==============================] - 0s 2ms/step - loss: nan - accuracy: 0.7303\n",
            "Epoch 90/200\n",
            "177/177 [==============================] - 0s 2ms/step - loss: nan - accuracy: 0.7303\n",
            "Epoch 91/200\n",
            "177/177 [==============================] - 0s 2ms/step - loss: nan - accuracy: 0.7303\n",
            "Epoch 92/200\n",
            "177/177 [==============================] - 0s 2ms/step - loss: nan - accuracy: 0.7303\n",
            "Epoch 93/200\n",
            "177/177 [==============================] - 0s 2ms/step - loss: nan - accuracy: 0.7303\n",
            "Epoch 94/200\n",
            "177/177 [==============================] - 0s 2ms/step - loss: nan - accuracy: 0.7303\n",
            "Epoch 95/200\n",
            "177/177 [==============================] - 0s 2ms/step - loss: nan - accuracy: 0.7303\n",
            "Epoch 96/200\n",
            "177/177 [==============================] - 0s 2ms/step - loss: nan - accuracy: 0.7303\n",
            "Epoch 97/200\n",
            "177/177 [==============================] - 0s 2ms/step - loss: nan - accuracy: 0.7303\n",
            "Epoch 98/200\n",
            "177/177 [==============================] - 0s 2ms/step - loss: nan - accuracy: 0.7303\n",
            "Epoch 99/200\n",
            "177/177 [==============================] - 0s 2ms/step - loss: nan - accuracy: 0.7303\n",
            "Epoch 100/200\n",
            "177/177 [==============================] - 0s 2ms/step - loss: nan - accuracy: 0.7303\n",
            "Epoch 101/200\n",
            "177/177 [==============================] - 0s 2ms/step - loss: nan - accuracy: 0.7303\n",
            "Epoch 102/200\n",
            "177/177 [==============================] - 0s 2ms/step - loss: nan - accuracy: 0.7303\n",
            "Epoch 103/200\n",
            "177/177 [==============================] - 0s 2ms/step - loss: nan - accuracy: 0.7303\n",
            "Epoch 104/200\n",
            "177/177 [==============================] - 0s 2ms/step - loss: nan - accuracy: 0.7303\n",
            "Epoch 105/200\n",
            "177/177 [==============================] - 0s 2ms/step - loss: nan - accuracy: 0.7303\n",
            "Epoch 106/200\n",
            "177/177 [==============================] - 0s 2ms/step - loss: nan - accuracy: 0.7303\n",
            "Epoch 107/200\n",
            "177/177 [==============================] - 0s 2ms/step - loss: nan - accuracy: 0.7303\n",
            "Epoch 108/200\n",
            "177/177 [==============================] - 0s 2ms/step - loss: nan - accuracy: 0.7303\n",
            "Epoch 109/200\n",
            "177/177 [==============================] - 0s 3ms/step - loss: nan - accuracy: 0.7303\n",
            "Epoch 110/200\n",
            "177/177 [==============================] - 1s 3ms/step - loss: nan - accuracy: 0.7303\n",
            "Epoch 111/200\n",
            "148/177 [========================>.....] - ETA: 0s - loss: nan - accuracy: 0.7276"
          ]
        }
      ],
      "source": [
        "model.fit(X_train, y_train, epochs=200, batch_size=32)"
      ]
    },
    {
      "cell_type": "code",
      "execution_count": null,
      "metadata": {
        "id": "vgb4K48FzP5-"
      },
      "outputs": [],
      "source": [
        "\n",
        "y_hat = model.predict(X_test)\n",
        "y_hat = [0 if val < 0.5 else 1 for val in y_hat]"
      ]
    },
    {
      "cell_type": "code",
      "execution_count": null,
      "metadata": {
        "id": "KWUMp6p4zP5-"
      },
      "outputs": [],
      "source": [
        "accuracy_score(y_test, y_hat)"
      ]
    },
    {
      "cell_type": "markdown",
      "metadata": {
        "id": "LmBFihDrzP5_"
      },
      "source": [
        "# 4. Saving and Reloading"
      ]
    },
    {
      "cell_type": "code",
      "execution_count": null,
      "metadata": {
        "collapsed": true,
        "id": "Y9zgypJPzP5_"
      },
      "outputs": [],
      "source": [
        "model.save('tfmodel')"
      ]
    },
    {
      "cell_type": "code",
      "execution_count": null,
      "metadata": {
        "id": "hDHIVg74zP5_"
      },
      "outputs": [],
      "source": [
        "del model"
      ]
    },
    {
      "cell_type": "code",
      "execution_count": null,
      "metadata": {
        "id": "EMfizZLWzP5_"
      },
      "outputs": [],
      "source": [
        "model = load_model('tfmodel')"
      ]
    },
    {
      "cell_type": "code",
      "source": [],
      "metadata": {
        "id": "EJHjgGzh8dXv"
      },
      "execution_count": null,
      "outputs": []
    }
  ],
  "metadata": {
    "kernelspec": {
      "display_name": "Python 3",
      "language": "python",
      "name": "python3"
    },
    "language_info": {
      "codemirror_mode": {
        "name": "ipython",
        "version": 3
      },
      "file_extension": ".py",
      "mimetype": "text/x-python",
      "name": "python",
      "nbconvert_exporter": "python",
      "pygments_lexer": "ipython3",
      "version": "3.7.4"
    },
    "colab": {
      "provenance": [],
      "include_colab_link": true
    }
  },
  "nbformat": 4,
  "nbformat_minor": 0
}